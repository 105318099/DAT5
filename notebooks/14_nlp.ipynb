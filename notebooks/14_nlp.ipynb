{
 "metadata": {
  "name": "",
  "signature": "sha256:8ee0aa2094bcff2a1b9625e97d48a42182dbfdd2b3b074c9b77947abd7591875"
 },
 "nbformat": 3,
 "nbformat_minor": 0,
 "worksheets": [
  {
   "cells": [
    {
     "cell_type": "heading",
     "level": 1,
     "metadata": {},
     "source": [
      "Natural Language Processing (NLP)"
     ]
    },
    {
     "cell_type": "markdown",
     "metadata": {},
     "source": [
      "What is NLP?\n",
      "* Using computers to process (analyze, understand, generate) natural human languages\n",
      "\n",
      "Why NLP?\n",
      "* Most knowledge created by humans is unstructured text, so we need some way to make sense of it.\n",
      "* Enables quantitative analysis of text data at large scale.\n",
      "* Provides a repeatable, \"unbiased\" way to look at text."
     ]
    },
    {
     "cell_type": "heading",
     "level": 3,
     "metadata": {},
     "source": [
      "Imports"
     ]
    },
    {
     "cell_type": "code",
     "collapsed": false,
     "input": [
      "import tweepy # Twitter API wrapper\n",
      "import json\n",
      "import requests # Python going to the Internet\n",
      "from bs4 import BeautifulSoup # Create structured object from HTML\n",
      "import nltk # Classic NLP package\n",
      "import textblob # NLP package\n",
      "import lda # Latent Dirichlet Allocation\n",
      "import numpy as np"
     ],
     "language": "python",
     "metadata": {},
     "outputs": [],
     "prompt_number": 17
    },
    {
     "cell_type": "heading",
     "level": 3,
     "metadata": {},
     "source": [
      "Getting Data"
     ]
    },
    {
     "cell_type": "code",
     "collapsed": false,
     "input": [
      "#Variables that contains the user credentials to access Twitter API \n",
      "access_token = \"2902716317-RrOXZgj6rnlketxHaYFimJwteiCa1Tutz59iDxb\"\n",
      "access_token_secret = \"LmJ4D5pHKZKtLEHiwQGqPyFU2U8hSbGhUwY082RutBuwZ\"\n",
      "consumer_key = \"zBFpCeTFfHV8Tuog8DZF8lfb9\"\n",
      "consumer_secret = \"9NKNbyClhMaRZtKOPcDyIMef9eAKztOuHydGgsh54XJkxqEfo4\"\n",
      "\n",
      "# Create authorization for API\n",
      "auth = tweepy.auth.OAuthHandler(consumer_key, consumer_secret)\n",
      "auth.set_access_token(access_token, access_token_secret)\n",
      "\n",
      "# Initialize API object by passing it your credentials\n",
      "api = tweepy.API(auth)\n",
      "\n",
      "# Use the api to search\n",
      "tweets = api.search(q=\"data science\", count=100, result_type=\"recent\")\n",
      "print tweets[0]"
     ],
     "language": "python",
     "metadata": {},
     "outputs": [
      {
       "output_type": "stream",
       "stream": "stdout",
       "text": [
        "Status(contributors=None, truncated=False, text=u\"RT @pdiff1: Anyone who draws/fits a curve to data like that and thinks it's good needs their science license revoked. https://t.co/SNhHvZQZ\\u2026\", in_reply_to_status_id=None, id=593843312890617857L, favorite_count=0, _api=<tweepy.api.API object at 0x00000000160BC3C8>, author=User(follow_request_sent=False, profile_use_background_image=True, _json={u'follow_request_sent': False, u'profile_use_background_image': True, u'default_profile_image': False, u'id': 28804598, u'profile_background_image_url_https': u'https://pbs.twimg.com/profile_background_images/531427422/avatar92.jpg', u'verified': False, u'profile_text_color': u'333333', u'profile_image_url_https': u'https://pbs.twimg.com/profile_images/573519090330939395/-xHdkELa_normal.jpeg', u'profile_sidebar_fill_color': u'DDEEF6', u'entities': {u'description': {u'urls': []}}, u'followers_count': 1009, u'profile_sidebar_border_color': u'C0DEED', u'id_str': u'28804598', u'profile_background_color': u'C0DEED', u'listed_count': 47, u'is_translation_enabled': False, u'utc_offset': -14400, u'statuses_count': 6918, u'description': u'Plant breeder, biology instructor, and computer geek.', u'friends_count': 1576, u'location': u'Clemson, SC', u'profile_link_color': u'0084B4', u'profile_image_url': u'http://pbs.twimg.com/profile_images/573519090330939395/-xHdkELa_normal.jpeg', u'following': False, u'geo_enabled': False, u'profile_banner_url': u'https://pbs.twimg.com/profile_banners/28804598/1425055889', u'profile_background_image_url': u'http://pbs.twimg.com/profile_background_images/531427422/avatar92.jpg', u'screen_name': u'edgeben', u'lang': u'en', u'profile_background_tile': True, u'favourites_count': 8284, u'name': u'Benjamin Edge', u'notifications': False, u'url': None, u'created_at': u'Sat Apr 04 14:46:56 +0000 2009', u'contributors_enabled': False, u'time_zone': u'Eastern Time (US & Canada)', u'protected': False, u'default_profile': False, u'is_translator': False}, time_zone=u'Eastern Time (US & Canada)', id=28804598, _api=<tweepy.api.API object at 0x00000000160BC3C8>, verified=False, profile_text_color=u'333333', profile_image_url_https=u'https://pbs.twimg.com/profile_images/573519090330939395/-xHdkELa_normal.jpeg', profile_sidebar_fill_color=u'DDEEF6', is_translator=False, geo_enabled=False, entities={u'description': {u'urls': []}}, followers_count=1009, protected=False, id_str=u'28804598', default_profile_image=False, listed_count=47, lang=u'en', utc_offset=-14400, statuses_count=6918, description=u'Plant breeder, biology instructor, and computer geek.', friends_count=1576, profile_link_color=u'0084B4', profile_image_url=u'http://pbs.twimg.com/profile_images/573519090330939395/-xHdkELa_normal.jpeg', notifications=False, profile_background_image_url_https=u'https://pbs.twimg.com/profile_background_images/531427422/avatar92.jpg', profile_background_color=u'C0DEED', profile_banner_url=u'https://pbs.twimg.com/profile_banners/28804598/1425055889', profile_background_image_url=u'http://pbs.twimg.com/profile_background_images/531427422/avatar92.jpg', name=u'Benjamin Edge', is_translation_enabled=False, profile_background_tile=True, favourites_count=8284, screen_name=u'edgeben', url=None, created_at=datetime.datetime(2009, 4, 4, 14, 46, 56), contributors_enabled=False, location=u'Clemson, SC', profile_sidebar_border_color=u'C0DEED', default_profile=False, following=False), _json={u'contributors': None, u'truncated': False, u'text': u\"RT @pdiff1: Anyone who draws/fits a curve to data like that and thinks it's good needs their science license revoked. https://t.co/SNhHvZQZ\\u2026\", u'in_reply_to_status_id': None, u'id': 593843312890617857L, u'favorite_count': 0, u'source': u'<a href=\"https://about.twitter.com/products/tweetdeck\" rel=\"nofollow\">TweetDeck</a>', u'retweeted': False, u'coordinates': None, u'entities': {u'symbols': [], u'user_mentions': [{u'id': 323075870, u'indices': [3, 10], u'id_str': u'323075870', u'screen_name': u'pdiff1', u'name': u'Bill Price'}], u'hashtags': [], u'urls': [{u'url': u'https://t.co/SNhHvZQZ56', u'indices': [118, 140], u'expanded_url': u'https://twitter.com/bradplumer/status/593837873704607744', u'display_url': u'twitter.com/bradplumer/sta\\u2026'}]}, u'in_reply_to_screen_name': None, u'in_reply_to_user_id': None, u'retweet_count': 1, u'id_str': u'593843312890617857', u'favorited': False, u'retweeted_status': {u'contributors': None, u'truncated': False, u'text': u\"Anyone who draws/fits a curve to data like that and thinks it's good needs their science license revoked. https://t.co/SNhHvZQZ56\", u'in_reply_to_status_id': None, u'id': 593840611469299712L, u'favorite_count': 2, u'source': u'<a href=\"http://twitter.com\" rel=\"nofollow\">Twitter Web Client</a>', u'retweeted': False, u'coordinates': None, u'entities': {u'symbols': [], u'user_mentions': [], u'hashtags': [], u'urls': [{u'url': u'https://t.co/SNhHvZQZ56', u'indices': [106, 129], u'expanded_url': u'https://twitter.com/bradplumer/status/593837873704607744', u'display_url': u'twitter.com/bradplumer/sta\\u2026'}]}, u'in_reply_to_screen_name': None, u'in_reply_to_user_id': None, u'retweet_count': 1, u'id_str': u'593840611469299712', u'favorited': False, u'user': {u'follow_request_sent': False, u'profile_use_background_image': True, u'default_profile_image': False, u'id': 323075870, u'profile_background_image_url_https': u'https://pbs.twimg.com/profile_background_images/691018846/c62ca5f489aebb5498934b21782495aa.jpeg', u'verified': False, u'profile_text_color': u'333333', u'profile_image_url_https': u'https://pbs.twimg.com/profile_images/575854607995265024/JijS55HD_normal.jpeg', u'profile_sidebar_fill_color': u'DDEEF6', u'entities': {u'url': {u'urls': [{u'url': u'http://t.co/D49OBRPMHf', u'indices': [0, 22], u'expanded_url': u'http://pdiff.weebly.com', u'display_url': u'pdiff.weebly.com'}]}, u'description': {u'urls': []}}, u'followers_count': 415, u'profile_sidebar_border_color': u'FFFFFF', u'id_str': u'323075870', u'profile_background_color': u'000000', u'listed_count': 35, u'is_translation_enabled': False, u'utc_offset': -25200, u'statuses_count': 8834, u'description': u\"I've worked in agricultural research for 35+ years and I am currently a statistician in the College of Agriculture at the University of Idaho.\", u'friends_count': 122, u'location': u'Deary, Idaho', u'profile_link_color': u'48B300', u'profile_image_url': u'http://pbs.twimg.com/profile_images/575854607995265024/JijS55HD_normal.jpeg', u'following': False, u'geo_enabled': True, u'profile_banner_url': u'https://pbs.twimg.com/profile_banners/323075870/1388169149', u'profile_background_image_url': u'http://pbs.twimg.com/profile_background_images/691018846/c62ca5f489aebb5498934b21782495aa.jpeg', u'screen_name': u'pdiff1', u'lang': u'en', u'profile_background_tile': False, u'favourites_count': 2060, u'name': u'Bill Price', u'notifications': False, u'url': u'http://t.co/D49OBRPMHf', u'created_at': u'Fri Jun 24 06:26:13 +0000 2011', u'contributors_enabled': False, u'time_zone': u'Pacific Time (US & Canada)', u'protected': False, u'default_profile': False, u'is_translator': False}, u'geo': None, u'in_reply_to_user_id_str': None, u'possibly_sensitive': False, u'lang': u'en', u'created_at': u'Thu Apr 30 18:13:29 +0000 2015', u'in_reply_to_status_id_str': None, u'place': None, u'metadata': {u'iso_language_code': u'en', u'result_type': u'recent'}}, u'user': {u'follow_request_sent': False, u'profile_use_background_image': True, u'default_profile_image': False, u'id': 28804598, u'profile_background_image_url_https': u'https://pbs.twimg.com/profile_background_images/531427422/avatar92.jpg', u'verified': False, u'profile_text_color': u'333333', u'profile_image_url_https': u'https://pbs.twimg.com/profile_images/573519090330939395/-xHdkELa_normal.jpeg', u'profile_sidebar_fill_color': u'DDEEF6', u'entities': {u'description': {u'urls': []}}, u'followers_count': 1009, u'profile_sidebar_border_color': u'C0DEED', u'id_str': u'28804598', u'profile_background_color': u'C0DEED', u'listed_count': 47, u'is_translation_enabled': False, u'utc_offset': -14400, u'statuses_count': 6918, u'description': u'Plant breeder, biology instructor, and computer geek.', u'friends_count': 1576, u'location': u'Clemson, SC', u'profile_link_color': u'0084B4', u'profile_image_url': u'http://pbs.twimg.com/profile_images/573519090330939395/-xHdkELa_normal.jpeg', u'following': False, u'geo_enabled': False, u'profile_banner_url': u'https://pbs.twimg.com/profile_banners/28804598/1425055889', u'profile_background_image_url': u'http://pbs.twimg.com/profile_background_images/531427422/avatar92.jpg', u'screen_name': u'edgeben', u'lang': u'en', u'profile_background_tile': True, u'favourites_count': 8284, u'name': u'Benjamin Edge', u'notifications': False, u'url': None, u'created_at': u'Sat Apr 04 14:46:56 +0000 2009', u'contributors_enabled': False, u'time_zone': u'Eastern Time (US & Canada)', u'protected': False, u'default_profile': False, u'is_translator': False}, u'geo': None, u'in_reply_to_user_id_str': None, u'possibly_sensitive': False, u'lang': u'en', u'created_at': u'Thu Apr 30 18:24:13 +0000 2015', u'in_reply_to_status_id_str': None, u'place': None, u'metadata': {u'iso_language_code': u'en', u'result_type': u'recent'}}, coordinates=None, entities={u'symbols': [], u'user_mentions': [{u'id': 323075870, u'indices': [3, 10], u'id_str': u'323075870', u'screen_name': u'pdiff1', u'name': u'Bill Price'}], u'hashtags': [], u'urls': [{u'url': u'https://t.co/SNhHvZQZ56', u'indices': [118, 140], u'expanded_url': u'https://twitter.com/bradplumer/status/593837873704607744', u'display_url': u'twitter.com/bradplumer/sta\\u2026'}]}, in_reply_to_screen_name=None, in_reply_to_user_id=None, retweet_count=1, id_str=u'593843312890617857', favorited=False, retweeted_status=Status(contributors=None, truncated=False, text=u\"Anyone who draws/fits a curve to data like that and thinks it's good needs their science license revoked. https://t.co/SNhHvZQZ56\", in_reply_to_status_id=None, id=593840611469299712L, favorite_count=2, _api=<tweepy.api.API object at 0x00000000160BC3C8>, author=User(follow_request_sent=False, profile_use_background_image=True, _json={u'follow_request_sent': False, u'profile_use_background_image': True, u'default_profile_image': False, u'id': 323075870, u'profile_background_image_url_https': u'https://pbs.twimg.com/profile_background_images/691018846/c62ca5f489aebb5498934b21782495aa.jpeg', u'verified': False, u'profile_text_color': u'333333', u'profile_image_url_https': u'https://pbs.twimg.com/profile_images/575854607995265024/JijS55HD_normal.jpeg', u'profile_sidebar_fill_color': u'DDEEF6', u'entities': {u'url': {u'urls': [{u'url': u'http://t.co/D49OBRPMHf', u'indices': [0, 22], u'expanded_url': u'http://pdiff.weebly.com', u'display_url': u'pdiff.weebly.com'}]}, u'description': {u'urls': []}}, u'followers_count': 415, u'profile_sidebar_border_color': u'FFFFFF', u'id_str': u'323075870', u'profile_background_color': u'000000', u'listed_count': 35, u'is_translation_enabled': False, u'utc_offset': -25200, u'statuses_count': 8834, u'description': u\"I've worked in agricultural research for 35+ years and I am currently a statistician in the College of Agriculture at the University of Idaho.\", u'friends_count': 122, u'location': u'Deary, Idaho', u'profile_link_color': u'48B300', u'profile_image_url': u'http://pbs.twimg.com/profile_images/575854607995265024/JijS55HD_normal.jpeg', u'following': False, u'geo_enabled': True, u'profile_banner_url': u'https://pbs.twimg.com/profile_banners/323075870/1388169149', u'profile_background_image_url': u'http://pbs.twimg.com/profile_background_images/691018846/c62ca5f489aebb5498934b21782495aa.jpeg', u'screen_name': u'pdiff1', u'lang': u'en', u'profile_background_tile': False, u'favourites_count': 2060, u'name': u'Bill Price', u'notifications': False, u'url': u'http://t.co/D49OBRPMHf', u'created_at': u'Fri Jun 24 06:26:13 +0000 2011', u'contributors_enabled': False, u'time_zone': u'Pacific Time (US & Canada)', u'protected': False, u'default_profile': False, u'is_translator': False}, time_zone=u'Pacific Time (US & Canada)', id=323075870, _api=<tweepy.api.API object at 0x00000000160BC3C8>, verified=False, profile_text_color=u'333333', profile_image_url_https=u'https://pbs.twimg.com/profile_images/575854607995265024/JijS55HD_normal.jpeg', profile_sidebar_fill_color=u'DDEEF6', is_translator=False, geo_enabled=True, entities={u'url': {u'urls': [{u'url': u'http://t.co/D49OBRPMHf', u'indices': [0, 22], u'expanded_url': u'http://pdiff.weebly.com', u'display_url': u'pdiff.weebly.com'}]}, u'description': {u'urls': []}}, followers_count=415, protected=False, id_str=u'323075870', default_profile_image=False, listed_count=35, lang=u'en', utc_offset=-25200, statuses_count=8834, description=u\"I've worked in agricultural research for 35+ years and I am currently a statistician in the College of Agriculture at the University of Idaho.\", friends_count=122, profile_link_color=u'48B300', profile_image_url=u'http://pbs.twimg.com/profile_images/575854607995265024/JijS55HD_normal.jpeg', notifications=False, profile_background_image_url_https=u'https://pbs.twimg.com/profile_background_images/691018846/c62ca5f489aebb5498934b21782495aa.jpeg', profile_background_color=u'000000', profile_banner_url=u'https://pbs.twimg.com/profile_banners/323075870/1388169149', profile_background_image_url=u'http://pbs.twimg.com/profile_background_images/691018846/c62ca5f489aebb5498934b21782495aa.jpeg', name=u'Bill Price', is_translation_enabled=False, profile_background_tile=False, favourites_count=2060, screen_name=u'pdiff1', url=u'http://t.co/D49OBRPMHf', created_at=datetime.datetime(2011, 6, 24, 6, 26, 13), contributors_enabled=False, location=u'Deary, Idaho', profile_sidebar_border_color=u'FFFFFF', default_profile=False, following=False), _json={u'contributors': None, u'truncated': False, u'text': u\"Anyone who draws/fits a curve to data like that and thinks it's good needs their science license revoked. https://t.co/SNhHvZQZ56\", u'in_reply_to_status_id': None, u'id': 593840611469299712L, u'favorite_count': 2, u'source': u'<a href=\"http://twitter.com\" rel=\"nofollow\">Twitter Web Client</a>', u'retweeted': False, u'coordinates': None, u'entities': {u'symbols': [], u'user_mentions': [], u'hashtags': [], u'urls': [{u'url': u'https://t.co/SNhHvZQZ56', u'indices': [106, 129], u'expanded_url': u'https://twitter.com/bradplumer/status/593837873704607744', u'display_url': u'twitter.com/bradplumer/sta\\u2026'}]}, u'in_reply_to_screen_name': None, u'in_reply_to_user_id': None, u'retweet_count': 1, u'id_str': u'593840611469299712', u'favorited': False, u'user': {u'follow_request_sent': False, u'profile_use_background_image': True, u'default_profile_image': False, u'id': 323075870, u'profile_background_image_url_https': u'https://pbs.twimg.com/profile_background_images/691018846/c62ca5f489aebb5498934b21782495aa.jpeg', u'verified': False, u'profile_text_color': u'333333', u'profile_image_url_https': u'https://pbs.twimg.com/profile_images/575854607995265024/JijS55HD_normal.jpeg', u'profile_sidebar_fill_color': u'DDEEF6', u'entities': {u'url': {u'urls': [{u'url': u'http://t.co/D49OBRPMHf', u'indices': [0, 22], u'expanded_url': u'http://pdiff.weebly.com', u'display_url': u'pdiff.weebly.com'}]}, u'description': {u'urls': []}}, u'followers_count': 415, u'profile_sidebar_border_color': u'FFFFFF', u'id_str': u'323075870', u'profile_background_color': u'000000', u'listed_count': 35, u'is_translation_enabled': False, u'utc_offset': -25200, u'statuses_count': 8834, u'description': u\"I've worked in agricultural research for 35+ years and I am currently a statistician in the College of Agriculture at the University of Idaho.\", u'friends_count': 122, u'location': u'Deary, Idaho', u'profile_link_color': u'48B300', u'profile_image_url': u'http://pbs.twimg.com/profile_images/575854607995265024/JijS55HD_normal.jpeg', u'following': False, u'geo_enabled': True, u'profile_banner_url': u'https://pbs.twimg.com/profile_banners/323075870/1388169149', u'profile_background_image_url': u'http://pbs.twimg.com/profile_background_images/691018846/c62ca5f489aebb5498934b21782495aa.jpeg', u'screen_name': u'pdiff1', u'lang': u'en', u'profile_background_tile': False, u'favourites_count': 2060, u'name': u'Bill Price', u'notifications': False, u'url': u'http://t.co/D49OBRPMHf', u'created_at': u'Fri Jun 24 06:26:13 +0000 2011', u'contributors_enabled': False, u'time_zone': u'Pacific Time (US & Canada)', u'protected': False, u'default_profile': False, u'is_translator': False}, u'geo': None, u'in_reply_to_user_id_str': None, u'possibly_sensitive': False, u'lang': u'en', u'created_at': u'Thu Apr 30 18:13:29 +0000 2015', u'in_reply_to_status_id_str': None, u'place': None, u'metadata': {u'iso_language_code': u'en', u'result_type': u'recent'}}, coordinates=None, entities={u'symbols': [], u'user_mentions': [], u'hashtags': [], u'urls': [{u'url': u'https://t.co/SNhHvZQZ56', u'indices': [106, 129], u'expanded_url': u'https://twitter.com/bradplumer/status/593837873704607744', u'display_url': u'twitter.com/bradplumer/sta\\u2026'}]}, in_reply_to_screen_name=None, in_reply_to_user_id=None, retweet_count=1, id_str=u'593840611469299712', favorited=False, source_url=u'http://twitter.com', user=User(follow_request_sent=False, profile_use_background_image=True, _json={u'follow_request_sent': False, u'profile_use_background_image': True, u'default_profile_image': False, u'id': 323075870, u'profile_background_image_url_https': u'https://pbs.twimg.com/profile_background_images/691018846/c62ca5f489aebb5498934b21782495aa.jpeg', u'verified': False, u'profile_text_color': u'333333', u'profile_image_url_https': u'https://pbs.twimg.com/profile_images/575854607995265024/JijS55HD_normal.jpeg', u'profile_sidebar_fill_color': u'DDEEF6', u'entities': {u'url': {u'urls': [{u'url': u'http://t.co/D49OBRPMHf', u'indices': [0, 22], u'expanded_url': u'http://pdiff.weebly.com', u'display_url': u'pdiff.weebly.com'}]}, u'description': {u'urls': []}}, u'followers_count': 415, u'profile_sidebar_border_color': u'FFFFFF', u'id_str': u'323075870', u'profile_background_color': u'000000', u'listed_count': 35, u'is_translation_enabled': False, u'utc_offset': -25200, u'statuses_count': 8834, u'description': u\"I've worked in agricultural research for 35+ years and I am currently a statistician in the College of Agriculture at the University of Idaho.\", u'friends_count': 122, u'location': u'Deary, Idaho', u'profile_link_color': u'48B300', u'profile_image_url': u'http://pbs.twimg.com/profile_images/575854607995265024/JijS55HD_normal.jpeg', u'following': False, u'geo_enabled': True, u'profile_banner_url': u'https://pbs.twimg.com/profile_banners/323075870/1388169149', u'profile_background_image_url': u'http://pbs.twimg.com/profile_background_images/691018846/c62ca5f489aebb5498934b21782495aa.jpeg', u'screen_name': u'pdiff1', u'lang': u'en', u'profile_background_tile': False, u'favourites_count': 2060, u'name': u'Bill Price', u'notifications': False, u'url': u'http://t.co/D49OBRPMHf', u'created_at': u'Fri Jun 24 06:26:13 +0000 2011', u'contributors_enabled': False, u'time_zone': u'Pacific Time (US & Canada)', u'protected': False, u'default_profile': False, u'is_translator': False}, time_zone=u'Pacific Time (US & Canada)', id=323075870, _api=<tweepy.api.API object at 0x00000000160BC3C8>, verified=False, profile_text_color=u'333333', profile_image_url_https=u'https://pbs.twimg.com/profile_images/575854607995265024/JijS55HD_normal.jpeg', profile_sidebar_fill_color=u'DDEEF6', is_translator=False, geo_enabled=True, entities={u'url': {u'urls': [{u'url': u'http://t.co/D49OBRPMHf', u'indices': [0, 22], u'expanded_url': u'http://pdiff.weebly.com', u'display_url': u'pdiff.weebly.com'}]}, u'description': {u'urls': []}}, followers_count=415, protected=False, id_str=u'323075870', default_profile_image=False, listed_count=35, lang=u'en', utc_offset=-25200, statuses_count=8834, description=u\"I've worked in agricultural research for 35+ years and I am currently a statistician in the College of Agriculture at the University of Idaho.\", friends_count=122, profile_link_color=u'48B300', profile_image_url=u'http://pbs.twimg.com/profile_images/575854607995265024/JijS55HD_normal.jpeg', notifications=False, profile_background_image_url_https=u'https://pbs.twimg.com/profile_background_images/691018846/c62ca5f489aebb5498934b21782495aa.jpeg', profile_background_color=u'000000', profile_banner_url=u'https://pbs.twimg.com/profile_banners/323075870/1388169149', profile_background_image_url=u'http://pbs.twimg.com/profile_background_images/691018846/c62ca5f489aebb5498934b21782495aa.jpeg', name=u'Bill Price', is_translation_enabled=False, profile_background_tile=False, favourites_count=2060, screen_name=u'pdiff1', url=u'http://t.co/D49OBRPMHf', created_at=datetime.datetime(2011, 6, 24, 6, 26, 13), contributors_enabled=False, location=u'Deary, Idaho', profile_sidebar_border_color=u'FFFFFF', default_profile=False, following=False), geo=None, in_reply_to_user_id_str=None, possibly_sensitive=False, lang=u'en', created_at=datetime.datetime(2015, 4, 30, 18, 13, 29), in_reply_to_status_id_str=None, place=None, source=u'Twitter Web Client', retweeted=False, metadata={u'iso_language_code': u'en', u'result_type': u'recent'}), source_url=u'https://about.twitter.com/products/tweetdeck', user=User(follow_request_sent=False, profile_use_background_image=True, _json={u'follow_request_sent': False, u'profile_use_background_image': True, u'default_profile_image': False, u'id': 28804598, u'profile_background_image_url_https': u'https://pbs.twimg.com/profile_background_images/531427422/avatar92.jpg', u'verified': False, u'profile_text_color': u'333333', u'profile_image_url_https': u'https://pbs.twimg.com/profile_images/573519090330939395/-xHdkELa_normal.jpeg', u'profile_sidebar_fill_color': u'DDEEF6', u'entities': {u'description': {u'urls': []}}, u'followers_count': 1009, u'profile_sidebar_border_color': u'C0DEED', u'id_str': u'28804598', u'profile_background_color': u'C0DEED', u'listed_count': 47, u'is_translation_enabled': False, u'utc_offset': -14400, u'statuses_count': 6918, u'description': u'Plant breeder, biology instructor, and computer geek.', u'friends_count': 1576, u'location': u'Clemson, SC', u'profile_link_color': u'0084B4', u'profile_image_url': u'http://pbs.twimg.com/profile_images/573519090330939395/-xHdkELa_normal.jpeg', u'following': False, u'geo_enabled': False, u'profile_banner_url': u'https://pbs.twimg.com/profile_banners/28804598/1425055889', u'profile_background_image_url': u'http://pbs.twimg.com/profile_background_images/531427422/avatar92.jpg', u'screen_name': u'edgeben', u'lang': u'en', u'profile_background_tile': True, u'favourites_count': 8284, u'name': u'Benjamin Edge', u'notifications': False, u'url': None, u'created_at': u'Sat Apr 04 14:46:56 +0000 2009', u'contributors_enabled': False, u'time_zone': u'Eastern Time (US & Canada)', u'protected': False, u'default_profile': False, u'is_translator': False}, time_zone=u'Eastern Time (US & Canada)', id=28804598, _api=<tweepy.api.API object at 0x00000000160BC3C8>, verified=False, profile_text_color=u'333333', profile_image_url_https=u'https://pbs.twimg.com/profile_images/573519090330939395/-xHdkELa_normal.jpeg', profile_sidebar_fill_color=u'DDEEF6', is_translator=False, geo_enabled=False, entities={u'description': {u'urls': []}}, followers_count=1009, protected=False, id_str=u'28804598', default_profile_image=False, listed_count=47, lang=u'en', utc_offset=-14400, statuses_count=6918, description=u'Plant breeder, biology instructor, and computer geek.', friends_count=1576, profile_link_color=u'0084B4', profile_image_url=u'http://pbs.twimg.com/profile_images/573519090330939395/-xHdkELa_normal.jpeg', notifications=False, profile_background_image_url_https=u'https://pbs.twimg.com/profile_background_images/531427422/avatar92.jpg', profile_background_color=u'C0DEED', profile_banner_url=u'https://pbs.twimg.com/profile_banners/28804598/1425055889', profile_background_image_url=u'http://pbs.twimg.com/profile_background_images/531427422/avatar92.jpg', name=u'Benjamin Edge', is_translation_enabled=False, profile_background_tile=True, favourites_count=8284, screen_name=u'edgeben', url=None, created_at=datetime.datetime(2009, 4, 4, 14, 46, 56), contributors_enabled=False, location=u'Clemson, SC', profile_sidebar_border_color=u'C0DEED', default_profile=False, following=False), geo=None, in_reply_to_user_id_str=None, possibly_sensitive=False, lang=u'en', created_at=datetime.datetime(2015, 4, 30, 18, 24, 13), in_reply_to_status_id_str=None, place=None, source=u'TweetDeck', retweeted=False, metadata={u'iso_language_code': u'en', u'result_type': u'recent'})\n"
       ]
      }
     ],
     "prompt_number": 19
    },
    {
     "cell_type": "code",
     "collapsed": false,
     "input": [
      "tweets[0].text"
     ],
     "language": "python",
     "metadata": {},
     "outputs": [
      {
       "metadata": {},
       "output_type": "pyout",
       "prompt_number": 29,
       "text": [
        "u\"RT @pdiff1: Anyone who draws/fits a curve to data like that and thinks it's good needs their science license revoked. https://t.co/SNhHvZQZ\\u2026\""
       ]
      }
     ],
     "prompt_number": 29
    },
    {
     "cell_type": "heading",
     "level": 3,
     "metadata": {},
     "source": [
      "Tokenization"
     ]
    },
    {
     "cell_type": "markdown",
     "metadata": {},
     "source": [
      "Some quick vocab:\n",
      "* \"corpus\" = collection of documents\n",
      "* \"corpora\" = plural form of corpus"
     ]
    },
    {
     "cell_type": "code",
     "collapsed": false,
     "input": [
      "# We need a corpus to work with\n",
      "r = requests.get(\"http://en.wikipedia.org/wiki/Data_science\") # Go to Wikipedia\n",
      "b = BeautifulSoup(r.text) # Turn HTML into structured object\n",
      "paragraphs = b.find(\"body\").findAll(\"p\") # Find all paragraghs in the article\n",
      "\n",
      "# Turn the paragraphs into one long text string\n",
      "text = \"\"\n",
      "for paragraph in paragraphs:\n",
      "    text += paragraph.text + \" \"\n",
      "    \n",
      "# Data Science corpus\n",
      "text[:500]"
     ],
     "language": "python",
     "metadata": {},
     "outputs": [
      {
       "metadata": {},
       "output_type": "pyout",
       "prompt_number": 2,
       "text": [
        "u'In general terms, Data Science is the extraction of knowledge from data.[1][2] It employs techniques and theories drawn from many fields within the broad areas of mathematics, statistics, information theory and information technology, including signal processing, probability models, machine learning, statistical learning, computer programming, data engineering, pattern recognition and learning, visualization, predictive analytics, uncertainty modeling, data warehousing, data compression and high'"
       ]
      }
     ],
     "prompt_number": 2
    },
    {
     "cell_type": "markdown",
     "metadata": {},
     "source": [
      "The first thing we need to do with our corpus of text is to break the documents into smaller units.  This is known as \"tokenization\".  There are two natural ways to go about this:  breaking the documents apart into sentences or into words.  This gives more structure to the previously unstructured text.  This also allows us to more easily perform other tasks upon our corpus.\n",
      "\n",
      "**Note**:  Breaking documents and paragraphs into sentences and words is easier is some languages than others.  English has obvious (to us) breaks in the text for sentences and words.  However, this might not be the case for other languages.  In addition, there are nuances in the English language with hyphenated words and phrases that are independent clauses but might be part of a larger sentence."
     ]
    },
    {
     "cell_type": "code",
     "collapsed": false,
     "input": [
      "# Tokenize into sentences\n",
      "sentences = [sent for sent in nltk.sent_tokenize(text)]\n",
      "sentences[:10]\n",
      "\n",
      "# Tokenize into words\n",
      "tokens = [word for word in nltk.word_tokenize(text)]\n",
      "tokens[:100]\n",
      "\n",
      "# Only keep tokens that start with a letter (using regular expressions)\n",
      "import re\n",
      "clean_tokens = [token for token in tokens if re.search('^[a-zA-Z]+', token)]\n",
      "clean_tokens[:20]"
     ],
     "language": "python",
     "metadata": {},
     "outputs": [
      {
       "metadata": {},
       "output_type": "pyout",
       "prompt_number": 5,
       "text": [
        "[u'In',\n",
        " u'general',\n",
        " u'terms',\n",
        " u'Data',\n",
        " u'Science',\n",
        " u'is',\n",
        " u'the',\n",
        " u'extraction',\n",
        " u'of',\n",
        " u'knowledge',\n",
        " u'from',\n",
        " u'data',\n",
        " u'It',\n",
        " u'employs',\n",
        " u'techniques',\n",
        " u'and',\n",
        " u'theories',\n",
        " u'drawn',\n",
        " u'from',\n",
        " u'many']"
       ]
      }
     ],
     "prompt_number": 5
    },
    {
     "cell_type": "markdown",
     "metadata": {},
     "source": [
      "We can now perform the \"hello world\" task of text analysis and get a list of the most popular words"
     ]
    },
    {
     "cell_type": "code",
     "collapsed": false,
     "input": [
      "# Count the tokens\n",
      "from collections import Counter\n",
      "c = Counter(clean_tokens)\n",
      "c.most_common(25)       # Mixed case\n",
      "sorted(c.items())[:25]  # Counts similar words separately\n",
      "for item in sorted(c.items())[:25]:\n",
      "    print item[0], item[1]"
     ],
     "language": "python",
     "metadata": {},
     "outputs": [
      {
       "metadata": {},
       "output_type": "pyout",
       "prompt_number": 9,
       "text": [
        "[(u'A', 1),\n",
        " (u'Action', 1),\n",
        " (u'Although', 2),\n",
        " (u'American', 1),\n",
        " (u'An', 1),\n",
        " (u'April', 2),\n",
        " (u'Areas', 1),\n",
        " (u'As', 1),\n",
        " (u'Association', 1),\n",
        " (u'Big', 2),\n",
        " (u'Board', 1),\n",
        " (u'C.', 1),\n",
        " (u'C.F', 1),\n",
        " (u'CODATA', 1),\n",
        " (u'Carver', 1),\n",
        " (u'Century', 1),\n",
        " (u'Chandra', 1),\n",
        " (u'Classification', 1),\n",
        " (u'Cleveland', 2),\n",
        " (u'Collections', 1),\n",
        " (u'Columbia', 1),\n",
        " (u'Committee', 1),\n",
        " (u'Computer', 1),\n",
        " (u'Concise', 1),\n",
        " (u'Council', 1)]"
       ]
      }
     ],
     "prompt_number": 9
    }
   ],
   "metadata": {}
  }
 ]
}