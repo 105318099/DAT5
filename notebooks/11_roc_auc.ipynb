{
 "metadata": {
  "name": "",
  "signature": "sha256:922f8aa2d6bda52f6aa85101581b73405ba34e7b4d2de9281c61670157467618"
 },
 "nbformat": 3,
 "nbformat_minor": 0,
 "worksheets": [
  {
   "cells": [
    {
     "cell_type": "markdown",
     "metadata": {},
     "source": [
      "# ROC Curves and AUC"
     ]
    },
    {
     "cell_type": "code",
     "collapsed": false,
     "input": [
      "import pandas as pd\n",
      "from sklearn.cross_validation import train_test_split\n",
      "from sklearn.linear_model import LogisticRegression\n",
      "from sklearn import metrics\n",
      "from sklearn.dummy import DummyClassifier\n",
      "import matplotlib.pyplot as plt\n",
      "%matplotlib inline"
     ],
     "language": "python",
     "metadata": {},
     "outputs": []
    },
    {
     "cell_type": "code",
     "collapsed": false,
     "input": [
      "# read in the data\n",
      "data = pd.read_csv('https://raw.githubusercontent.com/justmarkham/DAT5/master/data/default.csv')\n",
      "data.head()"
     ],
     "language": "python",
     "metadata": {},
     "outputs": []
    },
    {
     "cell_type": "markdown",
     "metadata": {},
     "source": [
      "## Model with One Feature"
     ]
    },
    {
     "cell_type": "code",
     "collapsed": false,
     "input": [
      "# create X and y\n",
      "X = data[['balance']]\n",
      "y = data.default"
     ],
     "language": "python",
     "metadata": {},
     "outputs": []
    },
    {
     "cell_type": "code",
     "collapsed": false,
     "input": [
      "# split into train and test\n",
      "X_train, X_test, y_train, y_test = train_test_split(X, y, random_state=1)"
     ],
     "language": "python",
     "metadata": {},
     "outputs": []
    },
    {
     "cell_type": "code",
     "collapsed": false,
     "input": [
      "# create logistic regression model\n",
      "logreg = LogisticRegression()\n",
      "logreg.fit(X_train, y_train)"
     ],
     "language": "python",
     "metadata": {},
     "outputs": []
    },
    {
     "cell_type": "code",
     "collapsed": false,
     "input": [
      "# make predictions and calculate accuracy\n",
      "y_pred = logreg.predict(X_test)\n",
      "print metrics.accuracy_score(y_test, y_pred)"
     ],
     "language": "python",
     "metadata": {},
     "outputs": []
    },
    {
     "cell_type": "code",
     "collapsed": false,
     "input": [
      "# calculate null accuracy rate\n",
      "print y_test.mean()\n",
      "print 1 - y_test.mean()"
     ],
     "language": "python",
     "metadata": {},
     "outputs": []
    },
    {
     "cell_type": "code",
     "collapsed": false,
     "input": [
      "# use a \"dummy classifier\" to calculate null accuracy rate\n",
      "dumb = DummyClassifier(strategy='most_frequent')\n",
      "dumb.fit(X_train, y_train)\n",
      "y_pred = dumb.predict(X_test)\n",
      "print metrics.accuracy_score(y_test, y_pred)"
     ],
     "language": "python",
     "metadata": {},
     "outputs": []
    },
    {
     "cell_type": "code",
     "collapsed": false,
     "input": [
      "# predict probability of default\n",
      "y_prob = logreg.predict_proba(X_test)[:, 1]"
     ],
     "language": "python",
     "metadata": {},
     "outputs": []
    },
    {
     "cell_type": "code",
     "collapsed": false,
     "input": [
      "# plot ROC curve\n",
      "fpr, tpr, thresholds = metrics.roc_curve(y_test, y_prob)\n",
      "plt.plot(fpr, tpr)\n",
      "plt.xlim([0.0, 1.0])\n",
      "plt.ylim([0.0, 1.0])\n",
      "plt.xlabel('False Positive Rate (1 - Specificity)')\n",
      "plt.ylabel('True Positive Rate (Sensitivity)')"
     ],
     "language": "python",
     "metadata": {},
     "outputs": []
    },
    {
     "cell_type": "code",
     "collapsed": false,
     "input": [
      "# calculate AUC\n",
      "print metrics.roc_auc_score(y_test, y_prob)"
     ],
     "language": "python",
     "metadata": {},
     "outputs": []
    },
    {
     "cell_type": "code",
     "collapsed": false,
     "input": [
      "# histogram of predicted probabilities grouped by actual response value\n",
      "df = pd.DataFrame(data = {'probability':y_prob, 'actual':y_test})\n",
      "df.probability.hist(by=df.actual, sharex=True)"
     ],
     "language": "python",
     "metadata": {},
     "outputs": []
    },
    {
     "cell_type": "markdown",
     "metadata": {},
     "source": [
      "## Model with Two Features"
     ]
    },
    {
     "cell_type": "code",
     "collapsed": false,
     "input": [
      "# compare to a model with an additional feature\n",
      "X = data[['balance', 'income']]\n",
      "y = data.default\n",
      "\n",
      "# split into train and test\n",
      "X_train, X_test, y_train, y_test = train_test_split(X, y, random_state=1)\n",
      "logreg.fit(X_train, y_train)\n",
      "\n",
      "# calculate accuracy\n",
      "y_pred = logreg.predict(X_test)\n",
      "print metrics.accuracy_score(y_test, y_pred)"
     ],
     "language": "python",
     "metadata": {},
     "outputs": []
    },
    {
     "cell_type": "code",
     "collapsed": false,
     "input": [
      "# predict probability of default\n",
      "y_prob = logreg.predict_proba(X_test)[:, 1]\n",
      "\n",
      "# plot ROC curve\n",
      "fpr, tpr, thresholds = metrics.roc_curve(y_test, y_prob)\n",
      "plt.plot(fpr, tpr)\n",
      "plt.xlim([0.0, 1.0])\n",
      "plt.ylim([0.0, 1.0])\n",
      "plt.xlabel('False Positive Rate (1 - Specificity)')\n",
      "plt.ylabel('True Positive Rate (Sensitivity)')"
     ],
     "language": "python",
     "metadata": {},
     "outputs": []
    },
    {
     "cell_type": "code",
     "collapsed": false,
     "input": [
      "# calculate AUC\n",
      "print metrics.roc_auc_score(y_test, y_prob)"
     ],
     "language": "python",
     "metadata": {},
     "outputs": []
    },
    {
     "cell_type": "code",
     "collapsed": false,
     "input": [
      "# histogram of predicted probabilities grouped by actual response value\n",
      "df = pd.DataFrame(data = {'probability':y_prob, 'actual':y_test})\n",
      "df.probability.hist(by=df.actual, sharex=True)"
     ],
     "language": "python",
     "metadata": {},
     "outputs": []
    }
   ],
   "metadata": {}
  }
 ]
}