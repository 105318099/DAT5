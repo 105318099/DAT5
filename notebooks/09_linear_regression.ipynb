{
 "metadata": {
  "name": "",
  "signature": "sha256:1081e585199a1fe09ec1f5ad19eb63a262c428c5e69c6237f500beedf1120bb6"
 },
 "nbformat": 3,
 "nbformat_minor": 0,
 "worksheets": [
  {
   "cells": [
    {
     "cell_type": "markdown",
     "metadata": {},
     "source": [
      "# Introduction to Linear Regression\n",
      "\n",
      "*Adapted from Chapter 3 of [An Introduction to Statistical Learning](http://www-bcf.usc.edu/~gareth/ISL/)*"
     ]
    },
    {
     "cell_type": "markdown",
     "metadata": {},
     "source": [
      "## Motivation\n",
      "\n",
      "**Regression problems** are supervised learning problems in which the response is continuous. **Classification problems** are supervised learning problems in which the response is categorical. **Linear regression** is a technique that is useful for regression problems.\n",
      "\n",
      "So, why are we learning linear regression?\n",
      "\n",
      "- widely used\n",
      "- runs fast\n",
      "- easy to use (not a lot of tuning required)\n",
      "- highly interpretable\n",
      "- basis for many other methods"
     ]
    },
    {
     "cell_type": "markdown",
     "metadata": {},
     "source": [
      "## Libraries\n",
      "\n",
      "We'll be using [Statsmodels](http://statsmodels.sourceforge.net/) for **teaching purposes** since it has some nice characteristics for linear modeling. However, we recommend that you spend most of your energy on [scikit-learn](http://scikit-learn.org/stable/) since it provides significantly more useful functionality for machine learning in general."
     ]
    },
    {
     "cell_type": "code",
     "collapsed": false,
     "input": [
      "# imports\n",
      "import pandas as pd\n",
      "import seaborn as sns\n",
      "import statsmodels.formula.api as smf\n",
      "from sklearn.linear_model import LinearRegression\n",
      "from sklearn import metrics\n",
      "from sklearn.cross_validation import train_test_split\n",
      "import numpy as np\n",
      "\n",
      "# allow plots to appear directly in the notebook\n",
      "%matplotlib inline"
     ],
     "language": "python",
     "metadata": {},
     "outputs": []
    },
    {
     "cell_type": "markdown",
     "metadata": {},
     "source": [
      "## Example: Advertising Data\n",
      "\n",
      "Let's take a look at some data, ask some questions about that data, and then use linear regression to answer those questions!"
     ]
    },
    {
     "cell_type": "code",
     "collapsed": false,
     "input": [
      "# read data into a DataFrame\n",
      "data = pd.read_csv('http://www-bcf.usc.edu/~gareth/ISL/Advertising.csv', index_col=0)\n",
      "data.head()"
     ],
     "language": "python",
     "metadata": {},
     "outputs": []
    },
    {
     "cell_type": "markdown",
     "metadata": {},
     "source": [
      "What are the **features**?\n",
      "- TV: advertising dollars spent on TV for a single product in a given market (in thousands of dollars)\n",
      "- Radio: advertising dollars spent on Radio\n",
      "- Newspaper: advertising dollars spent on Newspaper\n",
      "\n",
      "What is the **response**?\n",
      "- Sales: sales of a single product in a given market (in thousands of widgets)"
     ]
    },
    {
     "cell_type": "code",
     "collapsed": false,
     "input": [
      "# print the shape of the DataFrame\n",
      "data.shape"
     ],
     "language": "python",
     "metadata": {},
     "outputs": []
    },
    {
     "cell_type": "markdown",
     "metadata": {},
     "source": [
      "There are 200 **observations**, and thus 200 markets in the dataset."
     ]
    },
    {
     "cell_type": "code",
     "collapsed": false,
     "input": [
      "# visualize the relationship between the features and the response using scatterplots\n",
      "sns.pairplot(data, x_vars=['TV','Radio','Newspaper'], y_vars='Sales', size=7, aspect=0.7)"
     ],
     "language": "python",
     "metadata": {},
     "outputs": []
    },
    {
     "cell_type": "markdown",
     "metadata": {},
     "source": [
      "## Questions About the Advertising Data\n",
      "\n",
      "Let's pretend you work for the company that manufactures and markets this widget. The company might ask you the following: On the basis of this data, how should we spend our advertising money in the future?\n",
      "\n",
      "This general question might lead you to more specific questions:\n",
      "1. Is there a relationship between ads and sales?\n",
      "2. How strong is that relationship?\n",
      "3. Which ad types contribute to sales?\n",
      "4. What is the effect of each ad type of sales?\n",
      "5. Given ad spending in a particular market, can sales be predicted?\n",
      "\n",
      "We will explore these questions below!"
     ]
    },
    {
     "cell_type": "markdown",
     "metadata": {},
     "source": [
      "## Simple Linear Regression\n",
      "\n",
      "Simple linear regression is an approach for predicting a **quantitative response** using a **single feature** (or \"predictor\" or \"input variable\"). It takes the following form:\n",
      "\n",
      "$y = \\beta_0 + \\beta_1x$\n",
      "\n",
      "What does each term represent?\n",
      "- $y$ is the response\n",
      "- $x$ is the feature\n",
      "- $\\beta_0$ is the intercept\n",
      "- $\\beta_1$ is the coefficient for x\n",
      "\n",
      "Together, $\\beta_0$ and $\\beta_1$ are called the **model coefficients**. To create your model, you must \"learn\" the values of these coefficients. And once we've learned these coefficients, we can use the model to predict Sales!"
     ]
    },
    {
     "cell_type": "markdown",
     "metadata": {},
     "source": [
      "## Estimating (\"Learning\") Model Coefficients\n",
      "\n",
      "Generally speaking, coefficients are estimated using the **least squares criterion**, which means we are find the line (mathematically) which minimizes the **sum of squared residuals** (or \"sum of squared errors\"):"
     ]
    },
    {
     "cell_type": "markdown",
     "metadata": {},
     "source": [
      "![Estimating coefficients](09_estimating_coefficients.png)"
     ]
    },
    {
     "cell_type": "markdown",
     "metadata": {},
     "source": [
      "What elements are present in the diagram?\n",
      "- The black dots are the **observed values** of x and y.\n",
      "- The blue line is our **least squares line**.\n",
      "- The red lines are the **residuals**, which are the distances between the observed values and the least squares line.\n",
      "\n",
      "How do the model coefficients relate to the least squares line?\n",
      "- $\\beta_0$ is the **intercept** (the value of $y$ when $x$=0)\n",
      "- $\\beta_1$ is the **slope** (the change in $y$ divided by change in $x$)\n",
      "\n",
      "Here is a graphical depiction of those calculations:"
     ]
    },
    {
     "cell_type": "markdown",
     "metadata": {},
     "source": [
      "![Slope-intercept](09_slope_intercept.png)"
     ]
    },
    {
     "cell_type": "markdown",
     "metadata": {},
     "source": [
      "Let's estimate the model coefficients for the advertising data:"
     ]
    },
    {
     "cell_type": "code",
     "collapsed": false,
     "input": [
      "### STATSMODELS ###\n",
      "\n",
      "# create a fitted model\n",
      "lm1 = smf.ols(formula='Sales ~ TV', data=data).fit()\n",
      "\n",
      "# print the coefficients\n",
      "lm1.params"
     ],
     "language": "python",
     "metadata": {},
     "outputs": []
    },
    {
     "cell_type": "code",
     "collapsed": false,
     "input": [
      "### SCIKIT-LEARN ###\n",
      "\n",
      "# create X and y\n",
      "feature_cols = ['TV']\n",
      "X = data[feature_cols]\n",
      "y = data.Sales\n",
      "\n",
      "# instantiate and fit\n",
      "lm2 = LinearRegression()\n",
      "lm2.fit(X, y)\n",
      "\n",
      "# print the coefficients\n",
      "print lm2.intercept_\n",
      "print lm2.coef_"
     ],
     "language": "python",
     "metadata": {},
     "outputs": []
    },
    {
     "cell_type": "markdown",
     "metadata": {},
     "source": [
      "## Interpreting Model Coefficients\n",
      "\n",
      "How do we interpret the TV coefficient ($\\beta_1$)?\n",
      "- A \"unit\" increase in TV ad spending is **associated with** a 0.047537 \"unit\" increase in Sales.\n",
      "- Or more clearly: An additional $1,000 spent on TV ads is **associated with** an increase in sales of 47.537 widgets.\n",
      "\n",
      "Note that if an increase in TV ad spending was associated with a **decrease** in sales, $\\beta_1$ would be **negative**."
     ]
    },
    {
     "cell_type": "markdown",
     "metadata": {},
     "source": [
      "## Using the Model for Prediction\n",
      "\n",
      "Let's say that there was a new market where the TV advertising spend was **$50,000**. What would we predict for the Sales in that market?\n",
      "\n",
      "$$y = \\beta_0 + \\beta_1x$$\n",
      "$$y = 7.032594 + 0.047537 \\times 50$$"
     ]
    },
    {
     "cell_type": "code",
     "collapsed": false,
     "input": [
      "# manually calculate the prediction\n",
      "7.032594 + 0.047537*50"
     ],
     "language": "python",
     "metadata": {},
     "outputs": []
    },
    {
     "cell_type": "code",
     "collapsed": false,
     "input": [
      "### STATSMODELS ###\n",
      "\n",
      "# you have to create a DataFrame since the Statsmodels formula interface expects it\n",
      "X_new = pd.DataFrame({'TV': [50]})\n",
      "\n",
      "# predict for a new observation\n",
      "lm1.predict(X_new)"
     ],
     "language": "python",
     "metadata": {},
     "outputs": []
    },
    {
     "cell_type": "code",
     "collapsed": false,
     "input": [
      "### SCIKIT-LEARN ###\n",
      "\n",
      "# predict for a new observation\n",
      "lm2.predict(50)"
     ],
     "language": "python",
     "metadata": {},
     "outputs": []
    },
    {
     "cell_type": "markdown",
     "metadata": {},
     "source": [
      "Thus, we would predict Sales of **9,409 widgets** in that market."
     ]
    },
    {
     "cell_type": "markdown",
     "metadata": {},
     "source": [
      "## Plotting the Least Squares Line\n",
      "\n",
      "Let's plot the least squares line for Sales versus each of the features:"
     ]
    },
    {
     "cell_type": "code",
     "collapsed": false,
     "input": [
      "sns.pairplot(data, x_vars=['TV','Radio','Newspaper'], y_vars='Sales', size=7, aspect=0.7, kind='reg')"
     ],
     "language": "python",
     "metadata": {},
     "outputs": []
    },
    {
     "cell_type": "markdown",
     "metadata": {},
     "source": [
      "## Confidence in our Model\n",
      "\n",
      "**Question:** Is linear regression a high variance/low bias model, or a low variance/high bias model?\n",
      "\n",
      "**Answer:** Low variance/high bias. Under repeated sampling, the line will stay roughly in the same place (low variance), but the average of those models won't do a great job capturing the true relationship (high bias). Note that low variance is a useful characteristic when you don't have a lot of training data!\n",
      "\n",
      "A closely related concept is **confidence intervals**. Statsmodels calculates 95% confidence intervals for our model coefficients, which are interpreted as follows: If the population from which this sample was drawn was **sampled 100 times**, approximately **95 of those confidence intervals** would contain the \"true\" coefficient."
     ]
    },
    {
     "cell_type": "code",
     "collapsed": false,
     "input": [
      "### STATSMODELS ###\n",
      "\n",
      "# print the confidence intervals for the model coefficients\n",
      "lm1.conf_int()"
     ],
     "language": "python",
     "metadata": {},
     "outputs": []
    },
    {
     "cell_type": "markdown",
     "metadata": {},
     "source": [
      "Keep in mind that we only have a **single sample of data**, and not the **entire population of data**. The \"true\" coefficient is either within this interval or it isn't, but there's no way to actually know. We estimate the coefficient with the data we do have, and we show uncertainty about that estimate by giving a range that the coefficient is **probably** within.\n",
      "\n",
      "Note that using 95% confidence intervals is just a convention. You can create 90% confidence intervals (which will be more narrow), 99% confidence intervals (which will be wider), or whatever intervals you like."
     ]
    },
    {
     "cell_type": "markdown",
     "metadata": {},
     "source": [
      "## Hypothesis Testing and p-values\n",
      "\n",
      "Closely related to confidence intervals is **hypothesis testing**. Generally speaking, you start with a **null hypothesis** and an **alternative hypothesis** (that is opposite the null). Then, you check whether the data supports **rejecting the null hypothesis** or **failing to reject the null hypothesis**.\n",
      "\n",
      "(Note that \"failing to reject\" the null is not the same as \"accepting\" the null hypothesis. The alternative hypothesis may indeed be true, except that you just don't have enough data to show that.)\n",
      "\n",
      "As it relates to model coefficients, here is the conventional hypothesis test:\n",
      "- **null hypothesis:** There is no relationship between TV ads and Sales (and thus $\\beta_1$ equals zero)\n",
      "- **alternative hypothesis:** There is a relationship between TV ads and Sales (and thus $\\beta_1$ is not equal to zero)\n",
      "\n",
      "How do we test this hypothesis? Intuitively, we reject the null (and thus believe the alternative) if the 95% confidence interval **does not include zero**. Conversely, the **p-value** represents the probability that the coefficient is actually zero:"
     ]
    },
    {
     "cell_type": "code",
     "collapsed": false,
     "input": [
      "### STATSMODELS ###\n",
      "\n",
      "# print the p-values for the model coefficients\n",
      "lm1.pvalues"
     ],
     "language": "python",
     "metadata": {},
     "outputs": []
    },
    {
     "cell_type": "markdown",
     "metadata": {},
     "source": [
      "If the 95% confidence interval **includes zero**, the p-value for that coefficient will be **greater than 0.05**. If the 95% confidence interval **does not include zero**, the p-value will be **less than 0.05**. Thus, a p-value less than 0.05 is one way to decide whether there is likely a relationship between the feature and the response. (Again, using 0.05 as the cutoff is just a convention.)\n",
      "\n",
      "In this case, the p-value for TV is far less than 0.05, and so we **believe** that there is a relationship between TV ads and Sales.\n",
      "\n",
      "Note that we generally ignore the p-value for the intercept."
     ]
    },
    {
     "cell_type": "markdown",
     "metadata": {},
     "source": [
      "## How Well Does the Model Fit the data?\n",
      "\n",
      "The most common way to evaluate the overall fit of a linear model is by the **R-squared** value. R-squared is the **proportion of variance explained**, meaning the proportion of variance in the observed data that is explained by the model, or the reduction in error over the **null model**. (The null model just predicts the mean of the observed response, and thus it has an intercept and no slope.)\n",
      "\n",
      "R-squared is between 0 and 1, and higher is better because it means that more variance is explained by the model. Here's an example of what R-squared \"looks like\":"
     ]
    },
    {
     "cell_type": "markdown",
     "metadata": {},
     "source": [
      "![R-squared](09_r_squared.png)"
     ]
    },
    {
     "cell_type": "markdown",
     "metadata": {},
     "source": [
      "You can see that the **blue line** explains some of the variance in the data (R-squared=0.54), the **green line** explains more of the variance (R-squared=0.64), and the **red line** fits the training data even further (R-squared=0.66). (Does the red line look like it's overfitting?)\n",
      "\n",
      "Let's calculate the R-squared value for our simple linear model:"
     ]
    },
    {
     "cell_type": "code",
     "collapsed": false,
     "input": [
      "### STATSMODELS ###\n",
      "\n",
      "# print the R-squared value for the model\n",
      "lm1.rsquared"
     ],
     "language": "python",
     "metadata": {},
     "outputs": []
    },
    {
     "cell_type": "code",
     "collapsed": false,
     "input": [
      "### SCIKIT-LEARN ###\n",
      "\n",
      "# print the R-squared value for the model\n",
      "lm2.score(X, y)"
     ],
     "language": "python",
     "metadata": {},
     "outputs": []
    },
    {
     "cell_type": "markdown",
     "metadata": {},
     "source": [
      "Is that a \"good\" R-squared value? It's hard to say. The threshold for a good R-squared value depends widely on the domain. Therefore, it's most useful as a tool for **comparing different models**."
     ]
    },
    {
     "cell_type": "markdown",
     "metadata": {},
     "source": [
      "## Multiple Linear Regression\n",
      "\n",
      "Simple linear regression can easily be extended to include multiple features. This is called **multiple linear regression**:\n",
      "\n",
      "$y = \\beta_0 + \\beta_1x_1 + ... + \\beta_nx_n$\n",
      "\n",
      "Each $x$ represents a different feature, and each feature has its own coefficient. In this case:\n",
      "\n",
      "$y = \\beta_0 + \\beta_1 \\times TV + \\beta_2 \\times Radio + \\beta_3 \\times Newspaper$\n",
      "\n",
      "Let's estimate these coefficients:"
     ]
    },
    {
     "cell_type": "code",
     "collapsed": false,
     "input": [
      "### STATSMODELS ###\n",
      "\n",
      "# create a fitted model with all three features\n",
      "lm1 = smf.ols(formula='Sales ~ TV + Radio + Newspaper', data=data).fit()\n",
      "\n",
      "# print the coefficients\n",
      "lm1.params"
     ],
     "language": "python",
     "metadata": {},
     "outputs": []
    },
    {
     "cell_type": "code",
     "collapsed": false,
     "input": [
      "### SCIKIT-LEARN ###\n",
      "\n",
      "# create X and y\n",
      "feature_cols = ['TV', 'Radio', 'Newspaper']\n",
      "X = data[feature_cols]\n",
      "y = data.Sales\n",
      "\n",
      "# instantiate and fit\n",
      "lm2 = LinearRegression()\n",
      "lm2.fit(X, y)\n",
      "\n",
      "# print the coefficients\n",
      "print lm2.intercept_\n",
      "print lm2.coef_"
     ],
     "language": "python",
     "metadata": {},
     "outputs": []
    },
    {
     "cell_type": "code",
     "collapsed": false,
     "input": [
      "# pair the feature names with the coefficients\n",
      "zip(feature_cols, lm2.coef_)"
     ],
     "language": "python",
     "metadata": {},
     "outputs": []
    },
    {
     "cell_type": "markdown",
     "metadata": {},
     "source": [
      "How do we interpret these coefficients? For a given amount of Radio and Newspaper ad spending, an **increase of $1000 in TV ad spending** is associated with an **increase in Sales of 45.765 widgets**.\n",
      "\n",
      "A lot of the information we have been reviewing piece-by-piece is available in the Statsmodels model summary output:"
     ]
    },
    {
     "cell_type": "code",
     "collapsed": false,
     "input": [
      "### STATSMODELS ###\n",
      "\n",
      "# print a summary of the fitted model\n",
      "lm1.summary()"
     ],
     "language": "python",
     "metadata": {},
     "outputs": []
    },
    {
     "cell_type": "markdown",
     "metadata": {},
     "source": [
      "What are a few key things we learn from this output?\n",
      "\n",
      "- TV and Radio have significant **p-values**, whereas Newspaper does not. Thus we reject the null hypothesis for TV and Radio (that there is no association between those features and Sales), and fail to reject the null hypothesis for Newspaper.\n",
      "- TV and Radio ad spending are both **positively associated** with Sales, whereas Newspaper ad spending is **slightly negatively associated** with Sales. (However, this is irrelevant since we have failed to reject the null hypothesis for Newspaper.)\n",
      "- This model has a higher **R-squared** (0.897) than the previous model, which means that this model provides a better fit to the data than a model that only includes TV."
     ]
    },
    {
     "cell_type": "markdown",
     "metadata": {},
     "source": [
      "## Feature Selection\n",
      "\n",
      "How do I decide **which features to include** in a linear model? Here's one idea:\n",
      "- Try different models, and only keep predictors in the model if they have small p-values.\n",
      "- Check whether the R-squared value goes up when you add new predictors.\n",
      "\n",
      "What are the **drawbacks** to this approach?\n",
      "- Linear models rely upon a lot of **assumptions** (such as the features being independent), and if those assumptions are violated (which they usually are), R-squared and p-values are less reliable.\n",
      "- Using a p-value cutoff of 0.05 means that if you add 100 predictors to a model that are **pure noise**, 5 of them (on average) will still be counted as significant.\n",
      "- R-squared is susceptible to **overfitting**, and thus there is no guarantee that a model with a high R-squared value will generalize. Below is an example:"
     ]
    },
    {
     "cell_type": "code",
     "collapsed": false,
     "input": [
      "### STATSMODELS ###\n",
      "\n",
      "# only include TV and Radio in the model\n",
      "lm1 = smf.ols(formula='Sales ~ TV + Radio', data=data).fit()\n",
      "lm1.rsquared"
     ],
     "language": "python",
     "metadata": {},
     "outputs": []
    },
    {
     "cell_type": "code",
     "collapsed": false,
     "input": [
      "# add Newspaper to the model (which we believe has no association with Sales)\n",
      "lm1 = smf.ols(formula='Sales ~ TV + Radio + Newspaper', data=data).fit()\n",
      "lm1.rsquared"
     ],
     "language": "python",
     "metadata": {},
     "outputs": []
    },
    {
     "cell_type": "markdown",
     "metadata": {},
     "source": [
      "**R-squared will always increase as you add more features to the model**, even if they are unrelated to the response. Thus, selecting the model with the highest R-squared is not a reliable approach for choosing the best linear model.\n",
      "\n",
      "There is alternative to R-squared called **adjusted R-squared** that penalizes model complexity (to control for overfitting), but it generally [under-penalizes complexity](http://scott.fortmann-roe.com/docs/MeasuringError.html).\n",
      "\n",
      "So is there a better approach to feature selection? **Train/test split** or **cross-validation.** They provide a more reliable estimate of out-of-sample error, and thus are better for choosing which of your models will best **generalize** to out-of-sample data. There is extensive functionality for cross-validation in scikit-learn, including automated methods for searching different sets of parameters and different models. Importantly, cross-validation can be applied to **any model**, whereas the methods described above only apply to **linear models**."
     ]
    },
    {
     "cell_type": "markdown",
     "metadata": {},
     "source": [
      "## Model Evaluation Metrics for Regression\n",
      "\n",
      "For classification problems, we have only used classification accuracy as our evaluation metric. What metrics can we used for regression problems?\n",
      "\n",
      "**Mean Absolute Error** (MAE) is the mean of the absolute value of the errors:\n",
      "\n",
      "$$\\frac 1n\\sum_{i=1}^n|y_i-\\hat{y}_i|$$\n",
      "\n",
      "**Mean Squared Error** (MSE) is the mean of the squared errors:\n",
      "\n",
      "$$\\frac 1n\\sum_{i=1}^n(y_i-\\hat{y}_i)^2$$\n",
      "\n",
      "**Root Mean Squared Error** (RMSE) is the square root of the mean of the squared errors:\n",
      "\n",
      "$$\\sqrt{\\frac 1n\\sum_{i=1}^n(y_i-\\hat{y}_i)^2}$$\n",
      "\n",
      "MSE is more popular than MAE because MSE \"punishes\" larger errors. But, RMSE is even more popular than MSE because RMSE is interpretable in the \"y\" units.\n",
      "\n",
      "Let's calculate these by hand, to get an intuitive sense for the results:"
     ]
    },
    {
     "cell_type": "code",
     "collapsed": false,
     "input": [
      "# define true and predicted response values\n",
      "y_true = [100, 50, 30, 20]\n",
      "y_pred = [90, 50, 50, 30]\n",
      "\n",
      "# calculate MAE, MSE, RMSE\n",
      "print metrics.mean_absolute_error(y_true, y_pred)\n",
      "print metrics.mean_squared_error(y_true, y_pred)\n",
      "print np.sqrt(metrics.mean_squared_error(y_true, y_pred))"
     ],
     "language": "python",
     "metadata": {},
     "outputs": []
    },
    {
     "cell_type": "markdown",
     "metadata": {},
     "source": [
      "## Model Evaluation Using Train/Test Split\n",
      "\n",
      "Let's use train/test split with RMSE to see whether Newspaper should be kept in the model:"
     ]
    },
    {
     "cell_type": "code",
     "collapsed": false,
     "input": [
      "# include Newspaper\n",
      "X = data[['TV', 'Radio', 'Newspaper']]\n",
      "y = data.Sales\n",
      "X_train, X_test, y_train, y_test = train_test_split(X, y, random_state=1)\n",
      "lm2 = LinearRegression()\n",
      "lm2.fit(X_train, y_train)\n",
      "y_pred = lm2.predict(X_test)\n",
      "print np.sqrt(metrics.mean_squared_error(y_test, y_pred))"
     ],
     "language": "python",
     "metadata": {},
     "outputs": []
    },
    {
     "cell_type": "code",
     "collapsed": false,
     "input": [
      "# exclude Newspaper\n",
      "X = data[['TV', 'Radio']]\n",
      "y = data.Sales\n",
      "X_train, X_test, y_train, y_test = train_test_split(X, y, random_state=1)\n",
      "lm2 = LinearRegression()\n",
      "lm2.fit(X_train, y_train)\n",
      "y_pred = lm2.predict(X_test)\n",
      "print np.sqrt(metrics.mean_squared_error(y_test, y_pred))"
     ],
     "language": "python",
     "metadata": {},
     "outputs": []
    },
    {
     "cell_type": "markdown",
     "metadata": {},
     "source": [
      "## Handling Categorical Predictors with Two Categories\n",
      "\n",
      "Up to now, all of our predictors have been numeric. What if one of our predictors was categorical?\n",
      "\n",
      "Let's create a new feature called **Size**, and randomly assign observations to be **small or large**:"
     ]
    },
    {
     "cell_type": "code",
     "collapsed": false,
     "input": [
      "# set a seed for reproducibility\n",
      "np.random.seed(12345)\n",
      "\n",
      "# create a Series of booleans in which roughly half are True\n",
      "nums = np.random.rand(len(data))\n",
      "mask_large = nums > 0.5\n",
      "\n",
      "# initially set Size to small, then change roughly half to be large\n",
      "data['Size'] = 'small'\n",
      "data.loc[mask_large, 'Size'] = 'large'\n",
      "data.head()"
     ],
     "language": "python",
     "metadata": {},
     "outputs": []
    },
    {
     "cell_type": "markdown",
     "metadata": {},
     "source": [
      "For scikit-learn, we need to represent all data **numerically**. If the feature only has two categories, we can simply create a **dummy variable** that represents the categories as a binary value:"
     ]
    },
    {
     "cell_type": "code",
     "collapsed": false,
     "input": [
      "# create a new Series called Size_large\n",
      "data['Size_large'] = data.Size.map({'small':0, 'large':1})\n",
      "data.head()"
     ],
     "language": "python",
     "metadata": {},
     "outputs": []
    },
    {
     "cell_type": "markdown",
     "metadata": {},
     "source": [
      "Let's redo the multiple linear regression and include the **Size_large** predictor:"
     ]
    },
    {
     "cell_type": "code",
     "collapsed": false,
     "input": [
      "# create X and y\n",
      "feature_cols = ['TV', 'Radio', 'Newspaper', 'Size_large']\n",
      "X = data[feature_cols]\n",
      "y = data.Sales\n",
      "\n",
      "# instantiate, fit\n",
      "lm2 = LinearRegression()\n",
      "lm2.fit(X, y)\n",
      "\n",
      "# print coefficients\n",
      "zip(feature_cols, lm2.coef_)"
     ],
     "language": "python",
     "metadata": {},
     "outputs": []
    },
    {
     "cell_type": "markdown",
     "metadata": {},
     "source": [
      "How do we interpret the **Size_large coefficient**? For a given amount of TV/Radio/Newspaper ad spending, being a large market is associated with an average **increase** in Sales of 57.42 widgets (as compared to a small market, which is called the **baseline level**).\n",
      "\n",
      "What if we had reversed the 0/1 coding and created the feature 'Size_small' instead? The coefficient would be the same, except it would be **negative instead of positive**. As such, your choice of category for the baseline does not matter, all that changes is your **interpretation** of the coefficient."
     ]
    },
    {
     "cell_type": "markdown",
     "metadata": {},
     "source": [
      "## Handling Categorical Predictors with More than Two Categories\n",
      "\n",
      "Let's create a new feature called **Area**, and randomly assign observations to be **rural, suburban, or urban**:"
     ]
    },
    {
     "cell_type": "code",
     "collapsed": false,
     "input": [
      "# set a seed for reproducibility\n",
      "np.random.seed(123456)\n",
      "\n",
      "# assign roughly one third of observations to each group\n",
      "nums = np.random.rand(len(data))\n",
      "mask_suburban = (nums > 0.33) & (nums < 0.66)\n",
      "mask_urban = nums > 0.66\n",
      "data['Area'] = 'rural'\n",
      "data.loc[mask_suburban, 'Area'] = 'suburban'\n",
      "data.loc[mask_urban, 'Area'] = 'urban'\n",
      "data.head()"
     ],
     "language": "python",
     "metadata": {},
     "outputs": []
    },
    {
     "cell_type": "markdown",
     "metadata": {},
     "source": [
      "We have to represent Area numerically, but we can't simply code it as 0=rural, 1=suburban, 2=urban because that would imply an **ordered relationship** between suburban and urban (and thus urban is somehow \"twice\" the suburban category).\n",
      "\n",
      "Instead, we create **additional dummy variables**. Let's explore how to do this using pandas:"
     ]
    },
    {
     "cell_type": "code",
     "collapsed": false,
     "input": [
      "# create three dummy variables using get_dummies\n",
      "pd.get_dummies(data.Area, prefix='Area').head()"
     ],
     "language": "python",
     "metadata": {},
     "outputs": []
    },
    {
     "cell_type": "markdown",
     "metadata": {},
     "source": [
      "However, we actually only need **two dummy variables, not three**. Why? Because two dummies captures all of the \"information\" about the Area feature, and implicitly defines rural as the \"baseline level\". (In general, if you have a categorical feature with k levels, you create k-1 dummy variables.)\n",
      "\n",
      "Let's see what that looks like:"
     ]
    },
    {
     "cell_type": "code",
     "collapsed": false,
     "input": [
      "# create three dummy variables using get_dummies, then exclude the first dummy column\n",
      "area_dummies = pd.get_dummies(data.Area, prefix='Area').iloc[:, 1:]\n",
      "area_dummies.head()"
     ],
     "language": "python",
     "metadata": {},
     "outputs": []
    },
    {
     "cell_type": "markdown",
     "metadata": {},
     "source": [
      "Here is how we interpret the coding:\n",
      "- **rural** is coded as Area_suburban=0 and Area_urban=0\n",
      "- **suburban** is coded as Area_suburban=1 and Area_urban=0\n",
      "- **urban** is coded as Area_suburban=0 and Area_urban=1\n",
      "\n",
      "If this is confusing, think about why we only needed one dummy variable for Size (Size_large), not two dummy variables (Size_small and Size_large).\n",
      "\n",
      "Anyway, let's add these two new dummy variables onto the original DataFrame, and then include them in the linear regression model:"
     ]
    },
    {
     "cell_type": "code",
     "collapsed": false,
     "input": [
      "# concatenate the dummy variable columns onto the DataFrame (axis=0 means rows, axis=1 means columns)\n",
      "data = pd.concat([data, area_dummies], axis=1)\n",
      "data.head()"
     ],
     "language": "python",
     "metadata": {},
     "outputs": []
    },
    {
     "cell_type": "code",
     "collapsed": false,
     "input": [
      "# create X and y\n",
      "feature_cols = ['TV', 'Radio', 'Newspaper', 'Size_large', 'Area_suburban', 'Area_urban']\n",
      "X = data[feature_cols]\n",
      "y = data.Sales\n",
      "\n",
      "# instantiate and fit\n",
      "lm2 = LinearRegression()\n",
      "lm2.fit(X, y)\n",
      "\n",
      "# print the coefficients\n",
      "zip(feature_cols, lm2.coef_)"
     ],
     "language": "python",
     "metadata": {},
     "outputs": []
    },
    {
     "cell_type": "markdown",
     "metadata": {},
     "source": [
      "How do we interpret the coefficients?\n",
      "- Holding all other variables fixed, being a **suburban** area is associated with an average **decrease** in Sales of 106.56 widgets (as compared to the baseline level, which is rural).\n",
      "- Being an **urban** area is associated with an average **increase** in Sales of 268.13 widgets (as compared to rural).\n",
      "\n",
      "**A final note about dummy encoding:** If you have categories that can be ranked (i.e., strongly disagree, disagree, neutral, agree, strongly agree), you can potentially use a single dummy variable and represent the categories numerically (such as 1, 2, 3, 4, 5)."
     ]
    },
    {
     "cell_type": "markdown",
     "metadata": {},
     "source": [
      "## What Didn't We Cover?\n",
      "\n",
      "- Detecting collinearity\n",
      "- Diagnosing model fit\n",
      "- Transforming predictors to fit non-linear relationships\n",
      "- Interaction terms\n",
      "- Assumptions of linear regression\n",
      "- And so much more!\n",
      "\n",
      "You could certainly go very deep into linear regression, and learn how to apply it really, really well. It's an excellent way to **start your modeling process** when working a regression problem. However, it is limited by the fact that it can only make good predictions if there is a **linear relationship** between the features and the response, which is why more complex methods (with higher variance and lower bias) will often outperform linear regression.\n",
      "\n",
      "Therefore, we want you to understand linear regression conceptually, understand its strengths and weaknesses, be familiar with the terminology, and know how to apply it. However, we also want to spend time on many other machine learning models, which is why we aren't going deeper here."
     ]
    },
    {
     "cell_type": "markdown",
     "metadata": {},
     "source": [
      "## Resources\n",
      "\n",
      "- To go much more in-depth on linear regression, read Chapter 3 of [An Introduction to Statistical Learning](http://www-bcf.usc.edu/~gareth/ISL/), from which this lesson was adapted. Alternatively, watch the [related videos](http://www.dataschool.io/15-hours-of-expert-machine-learning-videos/) or read my [quick reference guide](http://www.dataschool.io/applying-and-interpreting-linear-regression/) to the key points in that chapter.\n",
      "- To learn more about Statsmodels and how to interpret the output, DataRobot has some decent posts on [simple linear regression](http://www.datarobot.com/blog/ordinary-least-squares-in-python/) and [multiple linear regression](http://www.datarobot.com/blog/multiple-regression-using-statsmodels/).\n",
      "- This [introduction to linear regression](http://people.duke.edu/~rnau/regintro.htm) is much more detailed and mathematically thorough, and includes lots of good advice.\n",
      "- This is a relatively quick post on the [assumptions of linear regression](http://pareonline.net/getvn.asp?n=2&v=8)."
     ]
    }
   ],
   "metadata": {}
  }
 ]
}